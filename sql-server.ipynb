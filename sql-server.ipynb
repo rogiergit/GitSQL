{
 "cells": [
  {
   "cell_type": "markdown",
   "metadata": {},
   "source": [
    "# SQL Server Scripts"
   ]
  },
  {
   "cell_type": "markdown",
   "metadata": {},
   "source": [
    "## Get schemas, tables and fields"
   ]
  },
  {
   "cell_type": "code",
   "execution_count": null,
   "metadata": {
    "vscode": {
     "languageId": "sql"
    }
   },
   "outputs": [],
   "source": [
    "SELECT \n",
    "TABLE_SCHEMA\n",
    ",TABLE_NAME\n",
    ",COLUMN_NAME\n",
    "FROM INFORMATION_SCHEMA.COLUMNS\n",
    "WHERE 1=1\n",
    "--AND TABLE_SCHEMA = 'mdw'\n",
    "--AND COLUMN_NAME NOT IN ('DW_Batch','DW_Id','DW_SourceCode','DW_TimeStamp','_Database','_DatabasePkey','_Id','_IncrementDatumTijd','_DatabaseFlorisoftIncrement','_DatabaseNummerExact','_DatabaseSysguid','_FeitType','_DatabaseFlorisoft')\n",
    "--AND COLUMN_NAME NOT LIKE '%Key%'\n",
    "ORDER BY\n",
    "TABLE_SCHEMA\n",
    ",TABLE_NAME\n",
    ",COLUMN_NAME\n",
    "\n"
   ]
  },
  {
   "cell_type": "markdown",
   "metadata": {},
   "source": [
    "## Get running processes"
   ]
  },
  {
   "cell_type": "code",
   "execution_count": null,
   "metadata": {
    "vscode": {
     "languageId": "sql"
    }
   },
   "outputs": [],
   "source": [
    "SELECT \n",
    "r.session_id,\n",
    "s.login_name,\n",
    "c.client_net_address,\n",
    "s.host_name,\n",
    "s.program_name,\n",
    "st.text,\n",
    "s.status\n",
    "FROM sys.dm_exec_requests r\n",
    "INNER JOIN sys.dm_exec_sessions s ON r.session_id = s.session_id\n",
    "LEFT JOIN sys.dm_exec_connections c ON r.session_id = c.session_id outer apply sys.dm_exec_sql_text(r.sql_handle) st\n",
    "WHERE client_net_address is NOT null AND text is NOT NULL and s.status = 'running'\n",
    ";"
   ]
  },
  {
   "cell_type": "code",
   "execution_count": null,
   "metadata": {
    "vscode": {
     "languageId": "sql"
    }
   },
   "outputs": [],
   "source": [
    "-- https://dba.stackexchange.com/questions/231819/find-queries-executed-by-an-user-in-sql-server\n",
    "SELECT \n",
    "sqltext.TEXT,\n",
    "req.session_id,\n",
    "req.status,\n",
    "req.command,\n",
    "req.cpu_time,\n",
    "req.total_elapsed_time\n",
    "FROM sys.dm_exec_requests req\n",
    "CROSS APPLY sys.dm_exec_sql_text(sql_handle) AS sqltext"
   ]
  },
  {
   "cell_type": "markdown",
   "metadata": {},
   "source": [
    "## Check and kill processes"
   ]
  },
  {
   "cell_type": "code",
   "execution_count": null,
   "metadata": {
    "vscode": {
     "languageId": "sql"
    }
   },
   "outputs": [],
   "source": [
    "SP_who2 -- check processes\n",
    "--kill 91;"
   ]
  },
  {
   "cell_type": "markdown",
   "metadata": {},
   "source": [
    "## ?"
   ]
  },
  {
   "cell_type": "code",
   "execution_count": null,
   "metadata": {
    "vscode": {
     "languageId": "sql"
    }
   },
   "outputs": [],
   "source": [
    "-- By default, it shows all processes in SQL Server.\n",
    "SELECT * FROM sys.dm_exec_sessions;"
   ]
  },
  {
   "cell_type": "code",
   "execution_count": null,
   "metadata": {
    "vscode": {
     "languageId": "sql"
    }
   },
   "outputs": [],
   "source": [
    "--We might not be interested in the system processes. We can filter the results using the following query.\n",
    "SELECT *\n",
    "FROM sys.dm_exec_sessions\n",
    "WHERE is_user_process = 1 and status ='running';"
   ]
  },
  {
   "cell_type": "markdown",
   "metadata": {},
   "source": [
    "## Get database sizes"
   ]
  },
  {
   "cell_type": "code",
   "execution_count": null,
   "metadata": {
    "vscode": {
     "languageId": "sql"
    }
   },
   "outputs": [],
   "source": [
    "SELECT \n",
    "DatabaseName\t= DB_NAME(database_id)\n",
    ",LogSizeGB\t\t= CAST(SUM(CASE WHEN type_desc = 'LOG' THEN size END) * 8. / 1024 / 1024 AS DECIMAL(8,2)) \n",
    ",RowSizeGB\t\t= CAST(SUM(CASE WHEN type_desc = 'ROWS' THEN size END) * 8. / 1024 / 1024 AS DECIMAL(8,2)) \n",
    ",TotalSizeGB\t= CAST(SUM(size) * 8. / 1024 / 1024 AS DECIMAL(8,2))\n",
    "FROM sys.master_files WITH(NOWAIT)\n",
    "WHERE 1 = 1 \n",
    "--AND DB_NAME(database_id) LIKE 'TX%'\n",
    "--AND database_id = DB_ID() -- for current db \n",
    "GROUP BY database_id\n",
    "ORDER BY 1 ASC;"
   ]
  },
  {
   "cell_type": "markdown",
   "metadata": {},
   "source": [
    "## Database file sizes"
   ]
  },
  {
   "cell_type": "code",
   "execution_count": null,
   "metadata": {
    "vscode": {
     "languageId": "sql"
    }
   },
   "outputs": [],
   "source": [
    "SELECT \n",
    "cast(size as int) /1024/1024/1024\n",
    ",*\n",
    "FROM sys.master_files WITH(NOWAIT)\n",
    "order by cast(size as int)  desc"
   ]
  },
  {
   "cell_type": "markdown",
   "metadata": {},
   "source": [
    "## Table sizes"
   ]
  },
  {
   "cell_type": "code",
   "execution_count": null,
   "metadata": {
    "vscode": {
     "languageId": "sql"
    }
   },
   "outputs": [],
   "source": [
    "SELECT \n",
    "TableName\t\t    = t.NAME\n",
    ",SchemaName\t\t  = s.Name\n",
    ",Rows\t\t\t      = FORMAT(p.rows, '#,#')\n",
    ",TotalSpaceGB\t  = CAST(ROUND(((SUM(a.total_pages) * 8) / 1024.00 / 1024.00), 2) AS NUMERIC(36, 2))\n",
    ",UsedSpaceGB\t  = CAST(ROUND(((SUM(a.used_pages) * 8) / 1024.00 / 1024.00), 2) AS NUMERIC(36, 2))\n",
    ",UnusedSpaceGB\t= CAST(ROUND(((SUM(a.total_pages) - SUM(a.used_pages)) * 8) / 1024.00 / 1024.00, 2) AS NUMERIC(36, 2))\n",
    "FROM sys.tables t\n",
    "INNER JOIN sys.indexes i ON t.OBJECT_ID = i.object_id\n",
    "INNER JOIN sys.partitions p ON i.object_id = p.OBJECT_ID AND i.index_id = p.index_id\n",
    "INNER JOIN sys.allocation_units a\tON p.partition_id\t= a.container_id\n",
    "LEFT OUTER JOIN sys.schemas s ON t.schema_id = s.schema_id\n",
    "WHERE 1 = 1 \n",
    "--AND \n",
    "GROUP BY\n",
    "t.Name\n",
    ",s.Name\n",
    ",FORMAT(p.rows, '#,#')\n",
    "ORDER BY TotalSpaceGB DESC ,t.Name\n",
    ";"
   ]
  },
  {
   "cell_type": "markdown",
   "metadata": {},
   "source": [
    "## Estimate data compression savings for table"
   ]
  },
  {
   "cell_type": "code",
   "execution_count": null,
   "metadata": {
    "vscode": {
     "languageId": "sql"
    }
   },
   "outputs": [],
   "source": [
    "EXEC sp_estimate_data_compression_savings 'dsa', 'Factuurregel', NULL, NULL, 'ROW' ;  "
   ]
  },
  {
   "cell_type": "markdown",
   "metadata": {},
   "source": [
    "## Rights (?)"
   ]
  },
  {
   "cell_type": "code",
   "execution_count": null,
   "metadata": {
    "vscode": {
     "languageId": "sql"
    }
   },
   "outputs": [],
   "source": [
    "select @@ServerName [Server Name], DB_NAME() [DB Name], u.name [DB Role], u2.name [Member Name]\n",
    "from sys.database_role_members m\n",
    "join sys.database_principals u on m.role_principal_id = u.principal_id\n",
    "join sys.database_principals u2 on m.member_principal_id = u2.principal_id\n",
    "--where u.name = 'db_owner'\n",
    "order by [Member Name]"
   ]
  },
  {
   "cell_type": "markdown",
   "metadata": {},
   "source": [
    "## Check running queries on the database"
   ]
  },
  {
   "cell_type": "code",
   "execution_count": null,
   "metadata": {
    "vscode": {
     "languageId": "sql"
    }
   },
   "outputs": [],
   "source": [
    "SELECT t.[text], s.last_execution_time\n",
    "FROM sys.dm_exec_cached_plans AS p\n",
    "INNER JOIN sys.dm_exec_query_stats AS s\n",
    "   ON p.plan_handle = s.plan_handle\n",
    "CROSS APPLY sys.dm_exec_sql_text(p.plan_handle) AS t\n",
    "WHERE 1 = 1 \n",
    "--AND t.[text] LIKE N'%SELECT @VolledigInladen%'\n",
    "ORDER BY s.last_execution_time DESC;"
   ]
  }
 ],
 "metadata": {
  "language_info": {
   "name": "python"
  }
 },
 "nbformat": 4,
 "nbformat_minor": 2
}
