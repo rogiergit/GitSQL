{
 "cells": [
  {
   "cell_type": "markdown",
   "metadata": {},
   "source": [
    "# TimeXtender Project Repository Queries\n",
    "Will only work on v20.10.x"
   ]
  },
  {
   "cell_type": "markdown",
   "metadata": {},
   "source": [
    "## Execution package logs"
   ]
  },
  {
   "cell_type": "code",
   "execution_count": null,
   "metadata": {
    "vscode": {
     "languageId": "sql"
    }
   },
   "outputs": [],
   "source": [
    "SELECT COUNT(*)\n",
    "FROM dbo.ExecutionPackageLogs\n",
    "JOIN dbo.Projects ON dbo.ExecutionPackageLogs.ProjectID = dbo.Projects.ProjectId AND dbo.Projects.ValidTo = 99999999\n",
    "WHERE 1 = 1 \n",
    "AND dbo.ExecutionPackageLogs.ExecutionPackageName = 'Incremental'\n",
    "AND dbo.Projects.Name = 'HoekGroup' \n",
    "AND dbo.ExecutionPackageLogs.EndStatus IS NULL\n",
    ";"
   ]
  },
  {
   "cell_type": "markdown",
   "metadata": {},
   "source": [
    "## Get primary keys fields for tables"
   ]
  },
  {
   "cell_type": "code",
   "execution_count": null,
   "metadata": {
    "vscode": {
     "languageId": "sql"
    }
   },
   "outputs": [],
   "source": [
    "%%sql\n",
    "select top (1000)\n",
    "  [Table No.]\n",
    ", [Table Name]\n",
    ", [Field No.]\n",
    ", [Field Name]\n",
    ", [Field Type]\n",
    ", [Field Class]\n",
    ", [Data Per Company] -- Indien deze = 1 dan DW_account in primary key\n",
    ", [Primary Key]\n",
    "from [tx_project_db_dev].[dbo].[Adapter Field]\n",
    "where 1=1\n",
    "  and [Primary Key] = 1\n",
    "  and [Table Name] like '%invoice%'"
   ]
  },
  {
   "cell_type": "markdown",
   "metadata": {},
   "source": [
    "## Get Business Central \"Flow\" fields from BC Adapter"
   ]
  },
  {
   "cell_type": "code",
   "execution_count": null,
   "metadata": {
    "vscode": {
     "languageId": "sql"
    }
   },
   "outputs": [],
   "source": [
    "select distinct\n",
    "  [Table No.]\n",
    ", [Table Name]\n",
    ", [Field No.]\n",
    ", [Field Name]\n",
    ", [Field Type]\n",
    ", [Field Class]\n",
    ", [Data Per Company] -- Indien deze = 1 dan DW_account in primary key\n",
    ", [Primary Key]\n",
    "from [tx_project_db_dev].[dbo].[Adapter Field]\n",
    "where 1 = 1\n",
    "  and [Field Class] = 'flowfield'\n",
    "--and [Table No.] in (25,380)\n",
    "order by [Table No.], [Field No.]"
   ]
  }
 ],
 "metadata": {
  "language_info": {
   "name": "python"
  }
 },
 "nbformat": 4,
 "nbformat_minor": 2
}
